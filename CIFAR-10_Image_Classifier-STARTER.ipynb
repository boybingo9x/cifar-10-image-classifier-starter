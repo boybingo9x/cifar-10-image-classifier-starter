{
 "cells": [
  {
   "cell_type": "markdown",
   "metadata": {},
   "source": [
    "# Introduction\n",
    "\n",
    "In this project, you will build a neural network of your own design to evaluate the CIFAR-10 dataset.\n",
    "Our target accuracy is 70%, but any accuracy over 50% is a great start.\n",
    "Some of the benchmark results on CIFAR-10 include:\n",
    "\n",
    "78.9% Accuracy | [Deep Belief Networks; Krizhevsky, 2010](https://www.cs.toronto.edu/~kriz/conv-cifar10-aug2010.pdf)\n",
    "\n",
    "90.6% Accuracy | [Maxout Networks; Goodfellow et al., 2013](https://arxiv.org/pdf/1302.4389.pdf)\n",
    "\n",
    "96.0% Accuracy | [Wide Residual Networks; Zagoruyko et al., 2016](https://arxiv.org/pdf/1605.07146.pdf)\n",
    "\n",
    "99.0% Accuracy | [GPipe; Huang et al., 2018](https://arxiv.org/pdf/1811.06965.pdf)\n",
    "\n",
    "98.5% Accuracy | [Rethinking Recurrent Neural Networks and other Improvements for ImageClassification; Nguyen et al., 2020](https://arxiv.org/pdf/2007.15161.pdf)\n",
    "\n",
    "Research with this dataset is ongoing. Notably, many of these networks are quite large and quite expensive to train. \n",
    "\n",
    "## Imports"
   ]
  },
  {
   "cell_type": "code",
   "execution_count": 1,
   "metadata": {},
   "outputs": [],
   "source": [
    "## This cell contains the essential imports you will need – DO NOT CHANGE THE CONTENTS! ##\n",
    "import torch\n",
    "import torch.nn as nn\n",
    "import torch.nn.functional as F\n",
    "import torch.optim as optim\n",
    "import torchvision\n",
    "import torchvision.transforms as transforms\n",
    "import matplotlib.pyplot as plt\n",
    "import numpy as np"
   ]
  },
  {
   "cell_type": "markdown",
   "metadata": {},
   "source": [
    "## Load the Dataset\n",
    "\n",
    "Specify your transforms as a list first.\n",
    "The transforms module is already loaded as `transforms`.\n",
    "\n",
    "CIFAR-10 is fortunately included in the torchvision module.\n",
    "Then, you can create your dataset using the `CIFAR10` object from `torchvision.datasets` ([the documentation is available here](https://pytorch.org/docs/stable/torchvision/datasets.html#cifar)).\n",
    "Make sure to specify `download=True`! \n",
    "\n",
    "Once your dataset is created, you'll also need to define a `DataLoader` from the `torch.utils.data` module for both the train and the test set."
   ]
  },
  {
   "cell_type": "code",
   "execution_count": 2,
   "metadata": {},
   "outputs": [
    {
     "name": "stdout",
     "output_type": "stream",
     "text": [
      "Downloading https://www.cs.toronto.edu/~kriz/cifar-10-python.tar.gz to data/train/cifar-10-python.tar.gz\n"
     ]
    },
    {
     "name": "stderr",
     "output_type": "stream",
     "text": [
      "100.0%\n"
     ]
    },
    {
     "name": "stdout",
     "output_type": "stream",
     "text": [
      "Extracting data/train/cifar-10-python.tar.gz to data/train\n",
      "Downloading https://www.cs.toronto.edu/~kriz/cifar-10-python.tar.gz to data/test/cifar-10-python.tar.gz\n"
     ]
    },
    {
     "name": "stderr",
     "output_type": "stream",
     "text": [
      "100.0%\n"
     ]
    },
    {
     "name": "stdout",
     "output_type": "stream",
     "text": [
      "Extracting data/test/cifar-10-python.tar.gz to data/test\n"
     ]
    }
   ],
   "source": [
    "# Define transforms\n",
    "## YOUR CODE HERE ##\n",
    "train_transform = transforms.Compose([transforms.RandomRotation(degrees=15),\n",
    "                                      transforms.RandomVerticalFlip(),\n",
    "                                      transforms.RandomHorizontalFlip(),\n",
    "                                      transforms.ToTensor(),\n",
    "                                      transforms.Normalize([0.485, 0.456, 0.406],\n",
    "                                                           [0.229, 0.224, 0.225])  # Imagenet standards\n",
    "                                      ])\n",
    "\n",
    "valid_transform = transforms.Compose([transforms.ToTensor(),\n",
    "                                      transforms.Normalize([0.485, 0.456, 0.406], [0.229, 0.224, 0.225])\n",
    "                                     ])\n",
    "                                     \n",
    "batch_size=128\n",
    "\n",
    "# Create training set and define training dataloader\n",
    "## YOUR CODE HERE ##\n",
    "train_set = torchvision.datasets.CIFAR10(root='data/train', train=True, transform = train_transform , download = True)\n",
    "train_loader = torch.utils.data.DataLoader(train_set, batch_size = batch_size , shuffle=True)\n",
    "\n",
    "# Create test set and define test dataloader\n",
    "## YOUR CODE HERE ##\n",
    "test_set = torchvision.datasets.CIFAR10(root='data/test', train=False, transform = valid_transform , download = True)\n",
    "test_loader = torch.utils.data.DataLoader(test_set, batch_size = batch_size, shuffle=True)\n",
    "\n",
    "# The 10 classes in the dataset\n",
    "classes = ('plane', 'car', 'bird', 'cat', 'deer', 'dog', 'frog', 'horse', 'ship', 'truck')"
   ]
  },
  {
   "cell_type": "markdown",
   "metadata": {},
   "source": [
    "## Explore the Dataset\n",
    "Using matplotlib, numpy, and torch, explore the dimensions of your data.\n",
    "\n",
    "You can view images using the `show5` function defined below – it takes a data loader as an argument.\n",
    "Remember that normalized images will look really weird to you! You may want to try changing your transforms to view images.\n",
    "Typically using no transforms other than `toTensor()` works well for viewing – but not as well for training your network.\n",
    "If `show5` doesn't work, go back and check your code for creating your data loaders and your training/test sets."
   ]
  },
  {
   "cell_type": "code",
   "execution_count": 3,
   "metadata": {},
   "outputs": [],
   "source": [
    "def show5(img_loader):\n",
    "    dataiter = iter(img_loader)\n",
    "    \n",
    "    batch = next(dataiter)\n",
    "    labels = batch[1][0:5]\n",
    "    images = batch[0][0:5]\n",
    "    for i in range(5):\n",
    "        print(classes[labels[i]])\n",
    "    \n",
    "        image = images[i].numpy()\n",
    "        print(image.shape)\n",
    "        plt.imshow(image.T)\n",
    "        plt.show()"
   ]
  },
  {
   "cell_type": "code",
   "execution_count": 4,
   "metadata": {},
   "outputs": [
    {
     "name": "stderr",
     "output_type": "stream",
     "text": [
      "Clipping input data to the valid range for imshow with RGB data ([0..1] for floats or [0..255] for integers).\n"
     ]
    },
    {
     "name": "stdout",
     "output_type": "stream",
     "text": [
      "bird\n",
      "(3, 32, 32)\n"
     ]
    },
    {
     "data": {
      "image/png": "[encoded data removed]",
      "text/plain": [
       "<Figure size 640x480 with 1 Axes>"
      ]
     },
     "metadata": {},
     "output_type": "display_data"
    },
    {
     "name": "stderr",
     "output_type": "stream",
     "text": [
      "Clipping input data to the valid range for imshow with RGB data ([0..1] for floats or [0..255] for integers).\n"
     ]
    },
    {
     "name": "stdout",
     "output_type": "stream",
     "text": [
      "car\n",
      "(3, 32, 32)\n"
     ]
    },
    {
     "data": {
      "image/png": "[encoded data removed]",
      "text/plain": [
       "<Figure size 640x480 with 1 Axes>"
      ]
     },
     "metadata": {},
     "output_type": "display_data"
    },
    {
     "name": "stderr",
     "output_type": "stream",
     "text": [
      "Clipping input data to the valid range for imshow with RGB data ([0..1] for floats or [0..255] for integers).\n"
     ]
    },
    {
     "name": "stdout",
     "output_type": "stream",
     "text": [
      "ship\n",
      "(3, 32, 32)\n"
     ]
    },
    {
     "data": {
      "image/png": "[encoded data removed]",
      "text/plain": [
       "<Figure size 640x480 with 1 Axes>"
      ]
     },
     "metadata": {},
     "output_type": "display_data"
    },
    {
     "name": "stderr",
     "output_type": "stream",
     "text": [
      "Clipping input data to the valid range for imshow with RGB data ([0..1] for floats or [0..255] for integers).\n"
     ]
    },
    {
     "name": "stdout",
     "output_type": "stream",
     "text": [
      "horse\n",
      "(3, 32, 32)\n"
     ]
    },
    {
     "data": {
      "image/png": "[encoded data removed]",
      "text/plain": [
       "<Figure size 640x480 with 1 Axes>"
      ]
     },
     "metadata": {},
     "output_type": "display_data"
    },
    {
     "name": "stderr",
     "output_type": "stream",
     "text": [
      "Clipping input data to the valid range for imshow with RGB data ([0..1] for floats or [0..255] for integers).\n"
     ]
    },
    {
     "name": "stdout",
     "output_type": "stream",
     "text": [
      "dog\n",
      "(3, 32, 32)\n"
     ]
    },
    {
     "data": {
      "image/png": "[encoded data removed]",
      "text/plain": [
       "<Figure size 640x480 with 1 Axes>"
      ]
     },
     "metadata": {},
     "output_type": "display_data"
    }
   ],
   "source": [
    "# Explore data\n",
    "## YOUR CODE HERE ##\n",
    "show5(train_loader)"
   ]
  },
  {
   "cell_type": "markdown",
   "metadata": {},
   "source": [
    "## Build your Neural Network\n",
    "Using the layers in `torch.nn` (which has been imported as `nn`) and the `torch.nn.functional` module (imported as `F`), construct a neural network based on the parameters of the dataset. \n",
    "Feel free to construct a model of any architecture – feedforward, convolutional, or even something more advanced!"
   ]
  },
  {
   "cell_type": "code",
   "execution_count": 5,
   "metadata": {},
   "outputs": [],
   "source": [
    "## YOUR CODE HERE ##\n",
    "class Classifier(nn.Module):\n",
    "    \"\"\"\n",
    "    This is a copy and paste from the pytorch tutorial\n",
    "    https://pytorch.org/tutorials/beginner/blitz/cifar10_tutorial.html\n",
    "    Apply dropout \n",
    "    \"\"\"\n",
    "    def __init__(self):\n",
    "        super().__init__()\n",
    "        self.pool = nn.MaxPool2d(2, 2)\n",
    "        self.dropout = nn.Dropout(p=0.15)\n",
    "\n",
    "        self.conv1 = nn.Conv2d(3, 6, 5)\n",
    "        self.pool = nn.MaxPool2d(2, 2)\n",
    "        self.conv2 = nn.Conv2d(6, 16, 5)\n",
    "        self.fc1 = nn.Linear(16 * 5 * 5, 120)\n",
    "        self.fc2 = nn.Linear(120, 84)\n",
    "        self.fc3 = nn.Linear(84, 10)\n",
    "\n",
    "    def forward(self, x):\n",
    "        x = self.pool(self.dropout(F.relu(self.conv1(x))))\n",
    "        x = self.pool(self.dropout(F.relu(self.conv2(x))))\n",
    "        x = torch.flatten(x, 1) # flatten all dimensions except batch\n",
    "        x = self.dropout((F.relu(self.fc1(x))))\n",
    "        x = self.dropout((F.relu(self.fc2(x))))\n",
    "        x =  F.log_softmax(self.fc3(x), dim=1)\n",
    "        return x\n",
    "\n"
   ]
  },
  {
   "cell_type": "markdown",
   "metadata": {},
   "source": [
    "Specify a loss function and an optimizer, and instantiate the model.\n",
    "\n",
    "If you use a less common loss function, please note why you chose that loss function in a comment."
   ]
  },
  {
   "cell_type": "code",
   "execution_count": 6,
   "metadata": {},
   "outputs": [],
   "source": [
    "## YOUR CODE HERE ##\n",
    "# instantiate the model\n",
    "model = Classifier()\n",
    "# specify loss function\n",
    "criterion = nn.CrossEntropyLoss()\n",
    "# specify optimizer\n",
    "optimizer = optim.SGD(model.parameters(), lr=0.001, momentum=0.9)"
   ]
  },
  {
   "cell_type": "markdown",
   "metadata": {},
   "source": [
    "## Running your Neural Network\n",
    "Use whatever method you like to train your neural network, and ensure you record the average loss at each epoch. \n",
    "Don't forget to use `torch.device()` and the `.to()` method for both your model and your data if you are using GPU!\n",
    "\n",
    "If you want to print your loss during each epoch, you can use the `enumerate` function and print the loss after a set number of batches. 250 batches works well for most people!"
   ]
  },
  {
   "cell_type": "code",
   "execution_count": 7,
   "metadata": {},
   "outputs": [
    {
     "name": "stdout",
     "output_type": "stream",
     "text": [
      "Epoch: 1/100..  Training Loss: 2.282..  Test Loss: 2.240..  Test Accuracy: 0.148\n",
      "Epoch: 2/100..  Training Loss: 2.155..  Test Loss: 2.088..  Test Accuracy: 0.242\n",
      "Epoch: 3/100..  Training Loss: 2.043..  Test Loss: 1.979..  Test Accuracy: 0.293\n",
      "Epoch: 4/100..  Training Loss: 1.937..  Test Loss: 1.877..  Test Accuracy: 0.322\n",
      "Epoch: 5/100..  Training Loss: 1.861..  Test Loss: 1.809..  Test Accuracy: 0.352\n",
      "Epoch: 6/100..  Training Loss: 1.803..  Test Loss: 1.760..  Test Accuracy: 0.373\n",
      "Epoch: 7/100..  Training Loss: 1.746..  Test Loss: 1.710..  Test Accuracy: 0.381\n",
      "Epoch: 8/100..  Training Loss: 1.706..  Test Loss: 1.676..  Test Accuracy: 0.396\n",
      "Epoch: 9/100..  Training Loss: 1.668..  Test Loss: 1.635..  Test Accuracy: 0.411\n",
      "Epoch: 10/100..  Training Loss: 1.644..  Test Loss: 1.592..  Test Accuracy: 0.430\n",
      "Epoch: 11/100..  Training Loss: 1.617..  Test Loss: 1.580..  Test Accuracy: 0.435\n",
      "Epoch: 12/100..  Training Loss: 1.597..  Test Loss: 1.554..  Test Accuracy: 0.438\n",
      "Epoch: 13/100..  Training Loss: 1.580..  Test Loss: 1.529..  Test Accuracy: 0.454\n",
      "Epoch: 14/100..  Training Loss: 1.564..  Test Loss: 1.512..  Test Accuracy: 0.456\n",
      "Epoch: 15/100..  Training Loss: 1.550..  Test Loss: 1.492..  Test Accuracy: 0.461\n",
      "Epoch: 16/100..  Training Loss: 1.536..  Test Loss: 1.480..  Test Accuracy: 0.481\n",
      "Epoch: 17/100..  Training Loss: 1.517..  Test Loss: 1.481..  Test Accuracy: 0.478\n",
      "Epoch: 18/100..  Training Loss: 1.500..  Test Loss: 1.445..  Test Accuracy: 0.491\n",
      "Epoch: 19/100..  Training Loss: 1.492..  Test Loss: 1.449..  Test Accuracy: 0.488\n",
      "Epoch: 20/100..  Training Loss: 1.474..  Test Loss: 1.413..  Test Accuracy: 0.494\n",
      "Epoch: 21/100..  Training Loss: 1.463..  Test Loss: 1.408..  Test Accuracy: 0.498\n",
      "Epoch: 22/100..  Training Loss: 1.451..  Test Loss: 1.401..  Test Accuracy: 0.510\n",
      "Epoch: 23/100..  Training Loss: 1.441..  Test Loss: 1.387..  Test Accuracy: 0.514\n",
      "Epoch: 24/100..  Training Loss: 1.433..  Test Loss: 1.376..  Test Accuracy: 0.517\n",
      "Epoch: 25/100..  Training Loss: 1.421..  Test Loss: 1.354..  Test Accuracy: 0.514\n",
      "Epoch: 26/100..  Training Loss: 1.413..  Test Loss: 1.363..  Test Accuracy: 0.523\n",
      "Epoch: 27/100..  Training Loss: 1.407..  Test Loss: 1.330..  Test Accuracy: 0.529\n",
      "Epoch: 28/100..  Training Loss: 1.401..  Test Loss: 1.341..  Test Accuracy: 0.533\n",
      "Epoch: 29/100..  Training Loss: 1.389..  Test Loss: 1.346..  Test Accuracy: 0.528\n",
      "Epoch: 30/100..  Training Loss: 1.382..  Test Loss: 1.321..  Test Accuracy: 0.532\n",
      "Epoch: 31/100..  Training Loss: 1.377..  Test Loss: 1.315..  Test Accuracy: 0.541\n",
      "Epoch: 32/100..  Training Loss: 1.371..  Test Loss: 1.317..  Test Accuracy: 0.539\n",
      "Epoch: 33/100..  Training Loss: 1.360..  Test Loss: 1.307..  Test Accuracy: 0.545\n",
      "Epoch: 34/100..  Training Loss: 1.355..  Test Loss: 1.315..  Test Accuracy: 0.545\n",
      "Epoch: 35/100..  Training Loss: 1.351..  Test Loss: 1.302..  Test Accuracy: 0.549\n",
      "Epoch: 36/100..  Training Loss: 1.348..  Test Loss: 1.298..  Test Accuracy: 0.549\n",
      "Epoch: 37/100..  Training Loss: 1.341..  Test Loss: 1.296..  Test Accuracy: 0.544\n",
      "Epoch: 38/100..  Training Loss: 1.336..  Test Loss: 1.285..  Test Accuracy: 0.557\n",
      "Epoch: 39/100..  Training Loss: 1.326..  Test Loss: 1.265..  Test Accuracy: 0.559\n",
      "Epoch: 40/100..  Training Loss: 1.327..  Test Loss: 1.283..  Test Accuracy: 0.557\n",
      "Epoch: 41/100..  Training Loss: 1.322..  Test Loss: 1.268..  Test Accuracy: 0.557\n",
      "Epoch: 42/100..  Training Loss: 1.317..  Test Loss: 1.273..  Test Accuracy: 0.555\n",
      "Epoch: 43/100..  Training Loss: 1.309..  Test Loss: 1.252..  Test Accuracy: 0.561\n",
      "Epoch: 44/100..  Training Loss: 1.303..  Test Loss: 1.265..  Test Accuracy: 0.563\n",
      "Epoch: 45/100..  Training Loss: 1.301..  Test Loss: 1.247..  Test Accuracy: 0.566\n",
      "Epoch: 46/100..  Training Loss: 1.297..  Test Loss: 1.250..  Test Accuracy: 0.567\n",
      "Epoch: 47/100..  Training Loss: 1.296..  Test Loss: 1.228..  Test Accuracy: 0.570\n",
      "Epoch: 48/100..  Training Loss: 1.288..  Test Loss: 1.236..  Test Accuracy: 0.567\n",
      "Epoch: 49/100..  Training Loss: 1.286..  Test Loss: 1.231..  Test Accuracy: 0.570\n",
      "Epoch: 50/100..  Training Loss: 1.281..  Test Loss: 1.234..  Test Accuracy: 0.568\n",
      "Epoch: 51/100..  Training Loss: 1.276..  Test Loss: 1.219..  Test Accuracy: 0.572\n",
      "Epoch: 52/100..  Training Loss: 1.279..  Test Loss: 1.208..  Test Accuracy: 0.573\n",
      "Epoch: 53/100..  Training Loss: 1.268..  Test Loss: 1.210..  Test Accuracy: 0.577\n",
      "Epoch: 54/100..  Training Loss: 1.268..  Test Loss: 1.225..  Test Accuracy: 0.578\n",
      "Epoch: 55/100..  Training Loss: 1.264..  Test Loss: 1.229..  Test Accuracy: 0.571\n",
      "Epoch: 56/100..  Training Loss: 1.260..  Test Loss: 1.208..  Test Accuracy: 0.582\n",
      "Epoch: 57/100..  Training Loss: 1.257..  Test Loss: 1.198..  Test Accuracy: 0.586\n",
      "Epoch: 58/100..  Training Loss: 1.253..  Test Loss: 1.204..  Test Accuracy: 0.582\n",
      "Epoch: 59/100..  Training Loss: 1.253..  Test Loss: 1.189..  Test Accuracy: 0.588\n",
      "Epoch: 60/100..  Training Loss: 1.256..  Test Loss: 1.197..  Test Accuracy: 0.582\n",
      "Epoch: 61/100..  Training Loss: 1.243..  Test Loss: 1.192..  Test Accuracy: 0.586\n",
      "Epoch: 62/100..  Training Loss: 1.248..  Test Loss: 1.189..  Test Accuracy: 0.585\n",
      "Epoch: 63/100..  Training Loss: 1.241..  Test Loss: 1.195..  Test Accuracy: 0.581\n",
      "Epoch: 64/100..  Training Loss: 1.242..  Test Loss: 1.202..  Test Accuracy: 0.581\n",
      "Epoch: 65/100..  Training Loss: 1.238..  Test Loss: 1.182..  Test Accuracy: 0.585\n",
      "Epoch: 66/100..  Training Loss: 1.232..  Test Loss: 1.168..  Test Accuracy: 0.591\n",
      "Epoch: 67/100..  Training Loss: 1.233..  Test Loss: 1.185..  Test Accuracy: 0.587\n",
      "Epoch: 68/100..  Training Loss: 1.231..  Test Loss: 1.190..  Test Accuracy: 0.590\n",
      "Epoch: 69/100..  Training Loss: 1.228..  Test Loss: 1.173..  Test Accuracy: 0.591\n",
      "Epoch: 70/100..  Training Loss: 1.227..  Test Loss: 1.156..  Test Accuracy: 0.594\n",
      "Epoch: 71/100..  Training Loss: 1.213..  Test Loss: 1.170..  Test Accuracy: 0.591\n",
      "Epoch: 72/100..  Training Loss: 1.219..  Test Loss: 1.159..  Test Accuracy: 0.599\n",
      "Epoch: 73/100..  Training Loss: 1.214..  Test Loss: 1.161..  Test Accuracy: 0.588\n",
      "Epoch: 74/100..  Training Loss: 1.212..  Test Loss: 1.161..  Test Accuracy: 0.600\n",
      "Epoch: 75/100..  Training Loss: 1.208..  Test Loss: 1.145..  Test Accuracy: 0.598\n",
      "Epoch: 76/100..  Training Loss: 1.213..  Test Loss: 1.177..  Test Accuracy: 0.592\n",
      "Epoch: 77/100..  Training Loss: 1.205..  Test Loss: 1.180..  Test Accuracy: 0.596\n",
      "Epoch: 78/100..  Training Loss: 1.205..  Test Loss: 1.142..  Test Accuracy: 0.600\n",
      "Epoch: 79/100..  Training Loss: 1.198..  Test Loss: 1.146..  Test Accuracy: 0.598\n",
      "Epoch: 80/100..  Training Loss: 1.206..  Test Loss: 1.148..  Test Accuracy: 0.601\n",
      "Epoch: 81/100..  Training Loss: 1.202..  Test Loss: 1.162..  Test Accuracy: 0.593\n",
      "Epoch: 82/100..  Training Loss: 1.201..  Test Loss: 1.160..  Test Accuracy: 0.607\n",
      "Epoch: 83/100..  Training Loss: 1.200..  Test Loss: 1.152..  Test Accuracy: 0.601\n",
      "Epoch: 84/100..  Training Loss: 1.197..  Test Loss: 1.171..  Test Accuracy: 0.593\n",
      "Epoch: 85/100..  Training Loss: 1.193..  Test Loss: 1.143..  Test Accuracy: 0.601\n",
      "Epoch: 86/100..  Training Loss: 1.189..  Test Loss: 1.142..  Test Accuracy: 0.601\n",
      "Epoch: 87/100..  Training Loss: 1.182..  Test Loss: 1.143..  Test Accuracy: 0.607\n",
      "Epoch: 88/100..  Training Loss: 1.184..  Test Loss: 1.148..  Test Accuracy: 0.604\n",
      "Epoch: 89/100..  Training Loss: 1.188..  Test Loss: 1.132..  Test Accuracy: 0.611\n",
      "Epoch: 90/100..  Training Loss: 1.187..  Test Loss: 1.142..  Test Accuracy: 0.608\n",
      "Epoch: 91/100..  Training Loss: 1.186..  Test Loss: 1.147..  Test Accuracy: 0.604\n",
      "Epoch: 92/100..  Training Loss: 1.179..  Test Loss: 1.119..  Test Accuracy: 0.613\n",
      "Epoch: 93/100..  Training Loss: 1.178..  Test Loss: 1.154..  Test Accuracy: 0.605\n",
      "Epoch: 94/100..  Training Loss: 1.176..  Test Loss: 1.127..  Test Accuracy: 0.611\n",
      "Epoch: 95/100..  Training Loss: 1.170..  Test Loss: 1.138..  Test Accuracy: 0.599\n",
      "Epoch: 96/100..  Training Loss: 1.171..  Test Loss: 1.125..  Test Accuracy: 0.616\n",
      "Epoch: 97/100..  Training Loss: 1.170..  Test Loss: 1.117..  Test Accuracy: 0.607\n",
      "Epoch: 98/100..  Training Loss: 1.172..  Test Loss: 1.132..  Test Accuracy: 0.605\n",
      "Epoch: 99/100..  Training Loss: 1.165..  Test Loss: 1.119..  Test Accuracy: 0.614\n",
      "Epoch: 100/100..  Training Loss: 1.160..  Test Loss: 1.119..  Test Accuracy: 0.610\n"
     ]
    }
   ],
   "source": [
    "## YOUR CODE HERE ##\n",
    "device=torch.device('cuda' if torch.cuda.is_available() else 'cpu')\n",
    "epochs = 100\n",
    "steps = 0\n",
    "\n",
    "train_losses, test_losses, accuracy_plt = [], [], []\n",
    "model.to(device)\n",
    "\n",
    "for e in range(epochs):\n",
    "    running_loss = 0\n",
    "    for images, labels in train_loader:\n",
    "        \n",
    "        optimizer.zero_grad()\n",
    "        images, labels = images.to(device), labels.to(device)\n",
    "        # print(images[0].shape)\n",
    "        log_ps = model.forward(images)\n",
    "        loss = criterion(log_ps, labels)\n",
    "        loss.backward()\n",
    "        optimizer.step()\n",
    "        \n",
    "        running_loss += loss.item()\n",
    "        \n",
    "    else:\n",
    "        test_loss = 0\n",
    "        accuracy = 0\n",
    "        \n",
    "        # Turn off gradients for validation, saves memory and computations\n",
    "        with torch.no_grad():\n",
    "            model.eval()\n",
    "            for images, labels in test_loader:\n",
    "                images, labels = images.to(device), labels.to(device)\n",
    "                log_ps = model.forward(images)\n",
    "                loss = criterion(log_ps, labels)\n",
    "                test_loss += loss.item()\n",
    "                \n",
    "                ps = torch.exp(log_ps)\n",
    "                top_p, top_class = ps.topk(1, dim=1)\n",
    "                equals = top_class == labels.view(*top_class.shape)\n",
    "                accuracy += torch.mean(equals.type(torch.FloatTensor))\n",
    "        \n",
    "        model.train()\n",
    "        \n",
    "        train_losses.append(running_loss/len(train_loader))\n",
    "        test_losses.append(test_loss/len(test_loader))\n",
    "        accuracy_plt.append(accuracy/len(test_loader))\n",
    "\n",
    "        print(\"Epoch: {}/{}.. \".format(e+1, epochs),\n",
    "              \"Training Loss: {:.3f}.. \".format(train_losses[-1]),\n",
    "              \"Test Loss: {:.3f}.. \".format(test_losses[-1]),\n",
    "              \"Test Accuracy: {:.3f}\".format(accuracy/len(test_loader)))"
   ]
  },
  {
   "cell_type": "markdown",
   "metadata": {},
   "source": [
    "Plot the training loss (and validation loss/accuracy, if recorded)."
   ]
  },
  {
   "cell_type": "code",
   "execution_count": 8,
   "metadata": {},
   "outputs": [
    {
     "data": {
      "text/plain": [
       "<matplotlib.legend.Legend at 0x7fad6c95c700>"
      ]
     },
     "execution_count": 8,
     "metadata": {},
     "output_type": "execute_result"
    },
    {
     "data": {
      "image/png": "[encoded data removed]",
      "text/plain": [
       "<Figure size 640x480 with 1 Axes>"
      ]
     },
     "metadata": {},
     "output_type": "display_data"
    }
   ],
   "source": [
    "## YOUR CODE HERE ##\n",
    "plt.plot(train_losses, label='Training loss')\n",
    "plt.plot(test_losses, label='Test loss')\n",
    "plt.plot(accuracy_plt, label='Accuracy', linestyle='dashed')\n",
    "plt.xlabel('epochs')\n",
    "plt.legend(frameon=False)"
   ]
  },
  {
   "cell_type": "markdown",
   "metadata": {},
   "source": [
    "## Testing your model\n",
    "Using the previously created `DataLoader` for the test set, compute the percentage of correct predictions using the highest probability prediction. \n",
    "\n",
    "If your accuracy is over 70%, great work! \n",
    "This is a hard task to exceed 70% on.\n",
    "\n",
    "If your accuracy is under 45%, you'll need to make improvements.\n",
    "Go back and check your model architecture, loss function, and optimizer to make sure they're appropriate for an image classification task."
   ]
  },
  {
   "cell_type": "code",
   "execution_count": 9,
   "metadata": {},
   "outputs": [
    {
     "name": "stdout",
     "output_type": "stream",
     "text": [
      "Test Accuracy : 61.0 %\n"
     ]
    }
   ],
   "source": [
    "## YOUR CODE HERE ##\n",
    "test_acc = 0\n",
    "\n",
    "with torch.no_grad():\n",
    "    \n",
    "    # test loop\n",
    "    \n",
    "    for images, labels in test_loader:\n",
    "        \n",
    "        model.eval()\n",
    "        \n",
    "        images, labels = images.to(device), labels.to(device)\n",
    "        \n",
    "        logps = model(images)\n",
    "        \n",
    "        loss = criterion(logps, labels)\n",
    "        ps = torch.exp(logps)\n",
    "        \n",
    "        top_p, top_classes = ps.topk(1, dim=1) \n",
    "        \n",
    "        equal = top_classes == labels.view(*top_classes.shape)\n",
    "        \n",
    "        test_acc += torch.mean(equal.type(torch.FloatTensor))\n",
    "                               \n",
    "print(f\"Test Accuracy : {100*test_acc/len(test_loader):.1f} %\") "
   ]
  },
  {
   "cell_type": "markdown",
   "metadata": {},
   "source": [
    "## Saving your model\n",
    "Using `torch.save`, save your model for future loading."
   ]
  },
  {
   "cell_type": "code",
   "execution_count": null,
   "metadata": {},
   "outputs": [],
   "source": [
    "## YOUR CODE HERE ##\n",
    "torch.save(model, 'checkpoint.pth')\n",
    "print(\"Model SAVED!\")"
   ]
  },
  {
   "cell_type": "markdown",
   "metadata": {},
   "source": [
    "## Make a Recommendation\n",
    "\n",
    "Based on your evaluation, what is your recommendation on whether to build or buy? Explain your reasoning below."
   ]
  },
  {
   "cell_type": "markdown",
   "metadata": {},
   "source": [
    "\n",
    "\n",
    "My model is based on default model on https://pytorch.org/tutorials/beginner/blitz/cifar10_tutorial.html with base accuracy about 54%.\n",
    "\n",
    "With some simple updates to apply Dropout function, accuracy is raised to about 60%.\n",
    "\n",
    "However, in my opinion to improve my model, I might use feature selection process to find the best subset of attributes and increase the learning rate a little bit.\n"
   ]
  }
 ],
 "metadata": {
  "kernelspec": {
   "display_name": "Python 3",
   "language": "python",
   "name": "python3"
  },
  "language_info": {
   "codemirror_mode": {
    "name": "ipython",
    "version": 3
   },
   "file_extension": ".py",
   "mimetype": "text/x-python",
   "name": "python",
   "nbconvert_exporter": "python",
   "pygments_lexer": "ipython3",
   "version": "3.8.10"
  }
 },
 "nbformat": 4,
 "nbformat_minor": 4
}
